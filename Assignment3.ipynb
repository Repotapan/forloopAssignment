{
 "cells": [
  {
   "cell_type": "markdown",
   "id": "14d5c3b0-5cac-4ef2-ae83-45c0908c82df",
   "metadata": {},
   "source": [
    "1)"
   ]
  },
  {
   "cell_type": "raw",
   "id": "1754a31b-0c89-43d8-ac8d-0de07bdc8f31",
   "metadata": {},
   "source": [
    "A for loop and a while loop are both control structures in programming languages, used to repeat a block of code multiple times. The choice between which one to use depends on the requirement of the code you want to write.\n",
    "\n",
    "A for loop is used when you have a known number of iterations to perform. For example, you want to iterate over a list of items and perform an action for each item in the list."
   ]
  },
  {
   "cell_type": "code",
   "execution_count": null,
   "id": "c4cfdbc6-ad44-4614-8d9b-955831752df9",
   "metadata": {},
   "outputs": [],
   "source": [
    "fruits = ['apple', 'banana', 'cherry']\n",
    "for fruit in fruits:\n",
    "    print(fruit)\n"
   ]
  },
  {
   "cell_type": "raw",
   "id": "20189024-4a31-40b6-a534-97359c00a616",
   "metadata": {},
   "source": [
    "The above code uses a for loop to iterate over the list of fruits and print each item in the list."
   ]
  },
  {
   "cell_type": "raw",
   "id": "b1c75907-7b13-4261-9b18-26ae9a744b33",
   "metadata": {},
   "source": [
    "e loop, on the other hand, is used when you have an unknown number of iterations to perform. For example, you want to keep asking the user for input until they provide a valid response."
   ]
  },
  {
   "cell_type": "code",
   "execution_count": null,
   "id": "1ca4105c-f708-4f24-be9e-b97f060620c7",
   "metadata": {},
   "outputs": [],
   "source": [
    "while True:\n",
    "    response = input(\"Enter a number: \")\n",
    "    if response.isdigit():\n",
    "        break\n",
    "    print(\"Invalid input, try again.\")\n"
   ]
  },
  {
   "cell_type": "raw",
   "id": "a9546043-085f-44c9-83aa-cf39b194de9a",
   "metadata": {},
   "source": [
    "The above code uses a while loop to keep asking the user for input until they provide a valid response (a string that represents a number). The loop continues as long as the condition True is true, which in this case means it will keep looping until the break statement is executed.\n",
    "\n",
    "\n",
    "\n",
    "\n"
   ]
  },
  {
   "cell_type": "markdown",
   "id": "485ec14b-68c1-4f3a-ac6e-46489fe05840",
   "metadata": {},
   "source": [
    "2)"
   ]
  },
  {
   "cell_type": "markdown",
   "id": "322db409-906f-43bd-8dea-76dfd130f3f9",
   "metadata": {},
   "source": [
    "sum of first 10 natural numbers by using for loop and while loop."
   ]
  },
  {
   "cell_type": "code",
   "execution_count": 2,
   "id": "e7ae5cdd-f853-475a-a854-d3990636dd91",
   "metadata": {},
   "outputs": [
    {
     "name": "stdout",
     "output_type": "stream",
     "text": [
      "The sum of the first 10 natural numbers is: 55\n"
     ]
    }
   ],
   "source": [
    "n = 10\n",
    "\n",
    "sum = 0\n",
    "for i in range(1, n+1):\n",
    "    sum += i\n",
    "\n",
    "print(\"The sum of the first\", n, \"natural numbers is:\", sum)\n"
   ]
  },
  {
   "cell_type": "code",
   "execution_count": 3,
   "id": "60ac58bb-cd6a-47ac-82d8-2e0f57fa1ef1",
   "metadata": {},
   "outputs": [
    {
     "name": "stdout",
     "output_type": "stream",
     "text": [
      "The sum of the first 10 natural numbers is: 55\n"
     ]
    }
   ],
   "source": [
    "n = 10\n",
    "\n",
    "sum = 0\n",
    "i = 1\n",
    "while i <= n:\n",
    "    sum += i\n",
    "    i += 1\n",
    "\n",
    "print(\"The sum of the first\", n, \"natural numbers is:\", sum)\n"
   ]
  },
  {
   "cell_type": "markdown",
   "id": "3234a299-4342-4fa7-b998-d56d37db3531",
   "metadata": {},
   "source": [
    "product of first 10 natural numbers"
   ]
  },
  {
   "cell_type": "code",
   "execution_count": 6,
   "id": "cd8e5f28-7bc6-4f25-91c3-8a5c771a244a",
   "metadata": {},
   "outputs": [
    {
     "name": "stdout",
     "output_type": "stream",
     "text": [
      "The product of first 10 natural numbers is : 3628800\n"
     ]
    }
   ],
   "source": [
    "n=10\n",
    "product=1\n",
    "for i in range(1,n+1):\n",
    "    product=product*i\n",
    "print(\"The product of first\",n,\"natural numbers is :\",product)"
   ]
  },
  {
   "cell_type": "code",
   "execution_count": 9,
   "id": "db8f8b27-d0c0-4917-b2e1-003c5966947c",
   "metadata": {},
   "outputs": [
    {
     "name": "stdout",
     "output_type": "stream",
     "text": [
      "The product of first 10 natural numbers is : 3628800\n"
     ]
    }
   ],
   "source": [
    "n=10\n",
    "product=1\n",
    "i=1\n",
    "while i<=n:\n",
    "    product=product*i\n",
    "    i=i+1\n",
    "print(\"The product of first\",n,\"natural numbers is :\",product)"
   ]
  },
  {
   "cell_type": "markdown",
   "id": "c34c6f79-cdd8-4c89-99d4-aab042026d59",
   "metadata": {},
   "source": [
    " 3)"
   ]
  },
  {
   "cell_type": "code",
   "execution_count": 21,
   "id": "aea2ceb7-8362-4161-a906-b19828c6bd14",
   "metadata": {},
   "outputs": [
    {
     "name": "stdin",
     "output_type": "stream",
     "text": [
      "Enter the number of units consumed:  310\n"
     ]
    },
    {
     "name": "stdout",
     "output_type": "stream",
     "text": [
      "The total electricity bill is: 2250.0 rupees.\n"
     ]
    }
   ],
   "source": [
    "units = int(input(\"Enter the number of units consumed: \"))\n",
    "\n",
    "if units <= 100:\n",
    "    bill = units * 4.5\n",
    "elif units <= 200:\n",
    "    bill = (100 * 4.5) + ((units - 100) * 6)\n",
    "elif units <= 300:\n",
    "    bill = (100 * 4.5) + (100 * 6) + ((units - 200) * 10)\n",
    "else:\n",
    "    bill = (100 * 4.5) + (100 * 6) + (100 * 10) + ((units - 300) * 20)\n",
    "\n",
    "print(\"The total electricity bill is:\", bill, \"rupees.\")\n"
   ]
  },
  {
   "cell_type": "markdown",
   "id": "d8268e28-3c0c-4651-818c-a710cc193460",
   "metadata": {},
   "source": [
    "4)"
   ]
  },
  {
   "cell_type": "code",
   "execution_count": 28,
   "id": "a4324514-e663-4136-9de9-1fab92e5757a",
   "metadata": {},
   "outputs": [
    {
     "name": "stdout",
     "output_type": "stream",
     "text": [
      "The list of cubes of numbers that are divisible by 4 and 5: [1000, 8000, 27000, 64000, 125000, 216000, 343000, 512000, 729000, 1000000]\n"
     ]
    }
   ],
   "source": [
    "numbers = list(range(1, 101))\n",
    "cubes = []\n",
    "\n",
    "for num in numbers:\n",
    "    cube = num ** 3\n",
    "    if cube % 4 == 0 and cube % 5 == 0:\n",
    "        cubes.append(cube)\n",
    "\n",
    "print(\"The list of cubes of numbers that are divisible by 4 and 5:\", cubes)\n"
   ]
  },
  {
   "cell_type": "code",
   "execution_count": 29,
   "id": "c55f9d08-294f-4151-b801-5aad04e5d4a9",
   "metadata": {},
   "outputs": [
    {
     "name": "stdout",
     "output_type": "stream",
     "text": [
      "The list of cubes of numbers that are divisible by 4 and 5: [1000, 8000, 27000, 64000, 125000, 216000, 343000, 512000, 729000, 1000000]\n"
     ]
    }
   ],
   "source": [
    "numbers = list(range(1, 101))\n",
    "cubes = []\n",
    "i = 0\n",
    "\n",
    "while i < len(numbers):\n",
    "    cube = numbers[i] ** 3\n",
    "    if cube % 4 == 0 and cube % 5 == 0:\n",
    "        cubes.append(cube)\n",
    "    i += 1\n",
    "\n",
    "print(\"The list of cubes of numbers that are divisible by 4 and 5:\", cubes)\n"
   ]
  },
  {
   "cell_type": "markdown",
   "id": "5f91b33a-289b-4d14-ac57-c0bf9229dbb8",
   "metadata": {},
   "source": [
    "5)"
   ]
  },
  {
   "cell_type": "code",
   "execution_count": 37,
   "id": "8af03fad-32e2-4cc4-a409-f7203e265ee8",
   "metadata": {},
   "outputs": [
    {
     "name": "stdout",
     "output_type": "stream",
     "text": [
      "The number of vowels in the string is: 12\n"
     ]
    }
   ],
   "source": [
    "string = \"i want to become a data scientist\"\n",
    "vowels = \"AEIOUaeiou\"\n",
    "\n",
    "vowel_list = list(filter(lambda x: x in vowels, string))\n",
    "\n",
    "print(\"The number of vowels in the string is:\", len(vowel_list))\n"
   ]
  },
  {
   "cell_type": "code",
   "execution_count": null,
   "id": "62283caf-1192-4435-8938-623cc79242f9",
   "metadata": {},
   "outputs": [],
   "source": []
  }
 ],
 "metadata": {
  "kernelspec": {
   "display_name": "Python 3 (ipykernel)",
   "language": "python",
   "name": "python3"
  },
  "language_info": {
   "codemirror_mode": {
    "name": "ipython",
    "version": 3
   },
   "file_extension": ".py",
   "mimetype": "text/x-python",
   "name": "python",
   "nbconvert_exporter": "python",
   "pygments_lexer": "ipython3",
   "version": "3.10.8"
  }
 },
 "nbformat": 4,
 "nbformat_minor": 5
}
